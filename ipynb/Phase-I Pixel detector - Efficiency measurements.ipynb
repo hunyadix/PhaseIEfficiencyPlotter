{
 "cells": [
  {
   "cell_type": "markdown",
   "metadata": {
    "slideshow": {
     "slide_type": "slide"
    }
   },
   "source": [
    "# Phase-I Pixel detector: Efficiency Measurements\n",
    "\n",
    "The purpose of this notebook and presentation is to provide documentation and validation of the efficiency measurements.\n",
    "\n",
    "<div style=\"margin-top: 20px; display: inline-block;\"><a href=\"mailto:adam.hunyadi@cern.ch?Subject=Phase-I%20Pixel detector:%20Efficiency%20Measurements\" target=\"_top\">adam.hunyadi@cern.ch</div>\n",
    "<div style=\"margin-left: 30px; margin-right: 30px; display: inline;\">- - -</div>\n",
    "<div style=\"display: inline;\">2017. 05. 17.</div>"
   ]
  },
  {
   "cell_type": "markdown",
   "metadata": {
    "slideshow": {
     "slide_type": "slide"
    }
   },
   "source": [
    "## Tools used\n",
    "The PhaseIPixelNtuplizer package (used to process the CMSSW output) is available at:\n",
    "\n",
    "https://github.com/jkarancs/PhaseIPixelNtuplizer\n",
    "\n",
    "The PhaseIEfficiencyPlotter package (used to create plots) is available at:\n",
    "\n",
    "https://github.com/hunyadix/PhaseIEfficiencyPlotter"
   ]
  },
  {
   "cell_type": "markdown",
   "metadata": {
    "slideshow": {
     "slide_type": "slide"
    }
   },
   "source": [
    "## Input used for the efficiency measurements\n",
    "\n",
    "For input I generated a RECO -> PhaseIPixelNtuplizer -> PhaseIEfficiencyPlotter ntuple with\n",
    "<ul>\n",
    "<li> 50,000 events, </li>\n",
    "<li> each of them having a pileup value of 40, </li>\n",
    "<li> in both CMSSW 90X and CMSSW 91X,\n",
    "<li> with the value of 0.8 set as double column efficiciency for all the detector parts </li>\n",
    "</ul>\n",
    "\n",
    "to validate the efficiency measurements and to fine-tune the efficiency filter cut thresholds."
   ]
  },
  {
   "cell_type": "markdown",
   "metadata": {
    "slideshow": {
     "slide_type": "slide"
    }
   },
   "source": [
    "The loading of the toolkit, and opening of the input file is done here:"
   ]
  },
  {
   "cell_type": "code",
   "execution_count": 1,
   "metadata": {
    "collapsed": false,
    "slideshow": {
     "slide_type": "-"
    }
   },
   "outputs": [],
   "source": [
    "import ROOT, sys\n",
    "ROOT.gStyle.SetPalette(1)\n",
    "sys.path.append('../python/')\n",
    "inputFile = ROOT.TFile.Open(\"/data/hunyadi/CMSSW/PhaseIEfficiencyPlotter_2017_04_02/CMSSW_9_1_0_pre3/src/DPGAnalysis/PhaseIEfficiencyPlotter/histograms_delayscan.root\", \"READ\")"
   ]
  },
  {
   "cell_type": "markdown",
   "metadata": {
    "slideshow": {
     "slide_type": "slide"
    }
   },
   "source": [
    "## Validation - Basics and drawing tools\n",
    "The plotter code should have generated a directory system with different directories based on the conditions. Since the ntuple only contains data from the same kind of simulation, it should only have one main directory:"
   ]
  },
  {
   "cell_type": "code",
   "execution_count": 2,
   "metadata": {
    "collapsed": false,
    "slideshow": {
     "slide_type": "-"
    }
   },
   "outputs": [],
   "source": [
    "mainDir = ROOT.gDirectory.Get(\n",
    "    ROOT.gDirectory.GetListOfKeys().First().GetTitle())"
   ]
  },
  {
   "cell_type": "markdown",
   "metadata": {
    "slideshow": {
     "slide_type": "slide"
    }
   },
   "source": [
    "The file contains categorical plot type subdirectories. This is the list of all the categories:"
   ]
  },
  {
   "cell_type": "code",
   "execution_count": 3,
   "metadata": {
    "collapsed": false,
    "scrolled": true,
    "slideshow": {
     "slide_type": "-"
    }
   },
   "outputs": [
    {
     "name": "stdout",
     "output_type": "stream",
     "text": [
      "layersDisksEfficiencyPlots                        rechitOccupancyROCPlots                           \n",
      "efficiencyROCPlots                                rechitOccupancyPhiVsZPlots                        \n",
      "efficiencyPhiVsZPlots                             rechitOccupancyGlyVsGlxPlots                      \n",
      "efficiencyGlyVsGlxPlots                           vtxNtrkEfficiencyPreCutsPlots                     \n",
      "vtxNtrkEfficiencyWithCutsPlots                    ptEfficiencyPreCutsPlots                          \n",
      "ptEfficiencyWithCutsPlots                         striphitsEfficiencyPreCutsPlots                   \n",
      "striphitsEfficiencyWithCutsPlots                  lxEfficiencyPreCutsPlots                          \n",
      "lxEfficiencyWithCutsPlots                         lyEfficiencyPreCutsPlots                          \n",
      "lyEfficiencyWithCutsPlots                         lyVsLxEfficiencyPreCutsPlots                      \n",
      "lyVsLxEfficiencyWithCutsPlots                     clustDistPreCutsPlots                             \n",
      "clustDistWithCutsPlots                            hitDistPreCuts                                    \n",
      "hitDistWithCutsPlots                              d0PreCutsPlots                                    \n",
      "d0WithCutsPlots                                   dzPreCutsPlots                                    \n",
      "dzWithCutsPlots                                   rocEfficiencyDistributionPlots                    \n",
      "forwardLocalPositionsByOrientationEfficiencyPlots forwardLocalPositionsWithFidicualCutsEfficiencyPlots \n"
     ]
    }
   ],
   "source": [
    "for index, subDir in enumerate(mainDir.GetListOfKeys()):\n",
    "    sys.stdout.write(\"%-49s \" % subDir.GetTitle())\n",
    "    if index % 2 == 1: print \"\""
   ]
  },
  {
   "cell_type": "markdown",
   "metadata": {
    "slideshow": {
     "slide_type": "slide"
    }
   },
   "source": [
    "To draw the contents of these categories, a drawing tool is introduced here:"
   ]
  },
  {
   "cell_type": "code",
   "execution_count": 4,
   "metadata": {
    "collapsed": false,
    "slideshow": {
     "slide_type": "-"
    }
   },
   "outputs": [],
   "source": [
    "def mergeCanvasRow(canvas, padIndex):\n",
    "    if padIndex % 2 == 0: print \"Function mergeCanvasRow() was called on invalid taget.\"\n",
    "    original = canvas.cd(padIndex)\n",
    "    original.SetPad(\"centeredPad\",\"centeredPad\", \n",
    "        (1.0 - original.GetAbsWNDC()) / 2.0, original.GetAbsYlowNDC(), \n",
    "        (1.0 - original.GetAbsWNDC()) / 2.0 + original.GetAbsWNDC(), original.GetAbsYlowNDC() + original.GetAbsHNDC(), 0)\n",
    "    canvas.cd(padIndex + 1).Delete()\n",
    "    \n",
    "def renderToCanvases(name, title, width, height, plotDirectory, plotNames):\n",
    "    canvases = []    \n",
    "    for index, plotName in enumerate(plotNames):\n",
    "        if index % 2 == 0:\n",
    "            canvases = canvases + [ROOT.TCanvas(name + \"_%d\" % (index / 2), title, width, height)]\n",
    "            canvases[-1].Divide(2, 1)\n",
    "        canvases[-1].cd((index % 2) + 1)\n",
    "        plot = ROOT.gDirectory.Get(plotDirectory + \"/\" + plotName)\n",
    "        if plot: plot.Draw(\"COLZ\")\n",
    "        else: print \"Missing plot: \", plotName\n",
    "    if(len(plotNames) % 2 == 1): mergeCanvasRow(canvases[-1], 1)\n",
    "    return canvases"
   ]
  },
  {
   "cell_type": "markdown",
   "metadata": {
    "slideshow": {
     "slide_type": "slide"
    }
   },
   "source": [
    "The visualization of the is customized here: "
   ]
  },
  {
   "cell_type": "code",
   "execution_count": 5,
   "metadata": {
    "collapsed": true,
    "slideshow": {
     "slide_type": "-"
    }
   },
   "outputs": [],
   "source": [
    "# ROOT.enableJSVis() # Uncommenting this adds interactive html/javascript elements to the notebook\n",
    "ROOT.gStyle.SetPalette(1)"
   ]
  },
  {
   "cell_type": "markdown",
   "metadata": {
    "slideshow": {
     "slide_type": "slide"
    }
   },
   "source": [
    "## Validation - Plots"
   ]
  },
  {
   "cell_type": "markdown",
   "metadata": {
    "slideshow": {
     "slide_type": "-"
    }
   },
   "source": [
    "### Cluster occupancy on the ROCs"
   ]
  },
  {
   "cell_type": "code",
   "execution_count": null,
   "metadata": {
    "collapsed": false,
    "scrolled": false,
    "slideshow": {
     "slide_type": "-"
    }
   },
   "outputs": [],
   "source": [
    "canvases = renderToCanvases(\"ClusterOccupancyCanvas\", \"Cluster Occupancy on the ROCs\", 900, 400,\n",
    "                   mainDir.GetTitle() + \"/\" + \"clusterOccupancyROCPlots\",\n",
    "                   [\"clusterOccupancyROCPlots_Layer1\",\n",
    "                    \"clusterOccupancyROCPlots_Layer2\",\n",
    "                    \"clusterOccupancyROCPlots_Layer3\",\n",
    "                    \"clusterOccupancyROCPlots_Layer4\",\n",
    "                    \"clusterOccupancyROCPlots_AllDisks\"])"
   ]
  },
  {
   "cell_type": "markdown",
   "metadata": {
    "slideshow": {
     "slide_type": "-"
    }
   },
   "source": [
    "<center><strong>[Use the up and down arrows to navigate between plots.]</strong></center>"
   ]
  },
  {
   "cell_type": "code",
   "execution_count": null,
   "metadata": {
    "collapsed": false,
    "slideshow": {
     "slide_type": "subslide"
    }
   },
   "outputs": [],
   "source": [
    "canvases[0].Draw()"
   ]
  },
  {
   "cell_type": "code",
   "execution_count": null,
   "metadata": {
    "collapsed": false,
    "slideshow": {
     "slide_type": "subslide"
    }
   },
   "outputs": [],
   "source": [
    "canvases[1].Draw()"
   ]
  },
  {
   "cell_type": "code",
   "execution_count": null,
   "metadata": {
    "collapsed": false,
    "slideshow": {
     "slide_type": "subslide"
    }
   },
   "outputs": [],
   "source": [
    "canvases[2].Draw()"
   ]
  },
  {
   "cell_type": "markdown",
   "metadata": {
    "slideshow": {
     "slide_type": "slide"
    }
   },
   "source": [
    "### Cluster occupancy on the layers - phi vs Z"
   ]
  },
  {
   "cell_type": "code",
   "execution_count": null,
   "metadata": {
    "collapsed": false,
    "slideshow": {
     "slide_type": "-"
    }
   },
   "outputs": [],
   "source": [
    "canvases = renderToCanvases(\"ClusterPhiVsZCanvas\", \"Cluster occupancy, phi vs Z\", 900, 400,\n",
    "    mainDir.GetTitle() + \"/\" + \"clusterPhiVsZPlots\",\n",
    "    [\"clusterPhiVsZPlots_Layer1\",\n",
    "    \"clusterPhiVsZPlots_Layer2\",\n",
    "    \"clusterPhiVsZPlots_Layer2\",\n",
    "    \"clusterPhiVsZPlots_Layer4\"])"
   ]
  },
  {
   "cell_type": "markdown",
   "metadata": {
    "slideshow": {
     "slide_type": "-"
    }
   },
   "source": [
    "<center><strong>[Use the up and down arrows to navigate between plots.]</strong></center>"
   ]
  },
  {
   "cell_type": "code",
   "execution_count": null,
   "metadata": {
    "collapsed": false,
    "slideshow": {
     "slide_type": "subslide"
    }
   },
   "outputs": [],
   "source": [
    "canvases[0].Draw()"
   ]
  },
  {
   "cell_type": "code",
   "execution_count": null,
   "metadata": {
    "collapsed": false,
    "slideshow": {
     "slide_type": "subslide"
    }
   },
   "outputs": [],
   "source": [
    "canvases[1].Draw()"
   ]
  },
  {
   "cell_type": "markdown",
   "metadata": {
    "slideshow": {
     "slide_type": "slide"
    }
   },
   "source": [
    "### Cluster occupancy on the layers - phi vs Z"
   ]
  },
  {
   "cell_type": "code",
   "execution_count": null,
   "metadata": {
    "collapsed": false,
    "slideshow": {
     "slide_type": "-"
    }
   },
   "outputs": [],
   "source": [
    "canvases = renderToCanvases(\"ClusterGlyVsGlxCanvas\", \"Cluster occupancy, Y vs X\", 900, 400,\n",
    "    mainDir.GetTitle() + \"/\" + \"clusterGlyVsGlxPlots\",\n",
    "    [\"clusterGlyVsGlxPlots_Disk1\",\n",
    "    \"clusterGlyVsGlxPlots_Disk2\",\n",
    "    \"clusterGlyVsGlxPlots_Disk3\",\n",
    "    \"clusterGlyVsGlxPlots_Disk4\",\n",
    "    \"clusterGlyVsGlxPlots_Disk5\",\n",
    "    \"clusterGlyVsGlxPlots_Disk6\"])"
   ]
  },
  {
   "cell_type": "markdown",
   "metadata": {
    "slideshow": {
     "slide_type": "-"
    }
   },
   "source": [
    "<center><strong>[Use the up and down arrows to navigate between plots.]</strong></center>"
   ]
  },
  {
   "cell_type": "code",
   "execution_count": null,
   "metadata": {
    "collapsed": false,
    "slideshow": {
     "slide_type": "subslide"
    }
   },
   "outputs": [],
   "source": [
    "canvases[0].Draw()"
   ]
  },
  {
   "cell_type": "code",
   "execution_count": null,
   "metadata": {
    "collapsed": false,
    "slideshow": {
     "slide_type": "subslide"
    }
   },
   "outputs": [],
   "source": [
    "canvases[1].Draw()"
   ]
  },
  {
   "cell_type": "code",
   "execution_count": null,
   "metadata": {
    "collapsed": false,
    "slideshow": {
     "slide_type": "subslide"
    }
   },
   "outputs": [],
   "source": [
    "canvases[2].Draw()"
   ]
  },
  {
   "cell_type": "markdown",
   "metadata": {
    "slideshow": {
     "slide_type": "slide"
    }
   },
   "source": [
    "### Rechit occupancy on the ROCs"
   ]
  },
  {
   "cell_type": "code",
   "execution_count": 6,
   "metadata": {
    "collapsed": false,
    "scrolled": false,
    "slideshow": {
     "slide_type": "-"
    }
   },
   "outputs": [],
   "source": [
    "canvases = renderToCanvases(\"RechitOccupancyCanvas\", \"Rechit Occupancy on the ROCs\", 900, 400,\n",
    "    mainDir.GetTitle() + \"/\" + \"rechitOccupancyROCPlots\",\n",
    "    [\"rechitOccupancyROCPlots_Layer1_Hits\",\n",
    "    \"rechitOccupancyROCPlots_Layer2_Hits\",\n",
    "    \"rechitOccupancyROCPlots_Layer3_Hits\",\n",
    "    \"rechitOccupancyROCPlots_Layer4_Hits\",\n",
    "    \"rechitOccupancyROCPlots_AllDisks_Hits\"])"
   ]
  },
  {
   "cell_type": "markdown",
   "metadata": {
    "slideshow": {
     "slide_type": "-"
    }
   },
   "source": [
    "<center><strong>[Use the up and down arrows to navigate between plots.]</strong></center>"
   ]
  },
  {
   "cell_type": "code",
   "execution_count": 7,
   "metadata": {
    "collapsed": false,
    "slideshow": {
     "slide_type": "subslide"
    }
   },
   "outputs": [
    {
     "data": {
      "image/png": "[encoded data removed]",
      "text/plain": [
       "<IPython.core.display.Image object>"
      ]
     },
     "metadata": {},
     "output_type": "display_data"
    }
   ],
   "source": [
    "canvases[0].Draw()"
   ]
  },
  {
   "cell_type": "code",
   "execution_count": 8,
   "metadata": {
    "collapsed": false,
    "slideshow": {
     "slide_type": "subslide"
    }
   },
   "outputs": [
    {
     "data": {
      "image/png": "[encoded data removed]",
      "text/plain": [
       "<IPython.core.display.Image object>"
      ]
     },
     "metadata": {},
     "output_type": "display_data"
    }
   ],
   "source": [
    "canvases[1].Draw()"
   ]
  },
  {
   "cell_type": "code",
   "execution_count": 9,
   "metadata": {
    "collapsed": false,
    "slideshow": {
     "slide_type": "subslide"
    }
   },
   "outputs": [
    {
     "data": {
      "image/png": "[encoded data removed]",
      "text/plain": [
       "<IPython.core.display.Image object>"
      ]
     },
     "metadata": {},
     "output_type": "display_data"
    }
   ],
   "source": [
    "canvases[2].Draw()"
   ]
  },
  {
   "cell_type": "markdown",
   "metadata": {
    "slideshow": {
     "slide_type": "slide"
    }
   },
   "source": [
    "### Rechit occupancy on the ROCs"
   ]
  },
  {
   "cell_type": "code",
   "execution_count": null,
   "metadata": {
    "collapsed": false,
    "slideshow": {
     "slide_type": "-"
    }
   },
   "outputs": [],
   "source": [
    "canvases = renderToCanvases(\"rechitOccupancyPhiVsZCanvas\", \"Rechit occupancy, phi vs Z\", 900, 400,\n",
    "    mainDir.GetTitle() + \"/\" + \"rechitOccupancyPhiVsZPlots\",\n",
    "    [\"rechitOccupancyPhiVsZPlots_Layer1_Hits\",\n",
    "    \"rechitOccupancyPhiVsZPlots_Layer2_Hits\",\n",
    "    \"rechitOccupancyPhiVsZPlots_Layer2_Hits\",\n",
    "    \"rechitOccupancyPhiVsZPlots_Layer4_Hits\"])"
   ]
  },
  {
   "cell_type": "markdown",
   "metadata": {
    "slideshow": {
     "slide_type": "-"
    }
   },
   "source": [
    "<center><strong>[Use the up and down arrows to navigate between plots.]</strong></center>"
   ]
  },
  {
   "cell_type": "code",
   "execution_count": null,
   "metadata": {
    "collapsed": false,
    "slideshow": {
     "slide_type": "subslide"
    }
   },
   "outputs": [],
   "source": [
    "canvases[0].Draw()"
   ]
  },
  {
   "cell_type": "code",
   "execution_count": null,
   "metadata": {
    "collapsed": false,
    "slideshow": {
     "slide_type": "subslide"
    }
   },
   "outputs": [],
   "source": [
    "canvases[1].Draw()"
   ]
  },
  {
   "cell_type": "markdown",
   "metadata": {
    "slideshow": {
     "slide_type": "slide"
    }
   },
   "source": [
    "### Rechit occupancy on the disks - Y vs X"
   ]
  },
  {
   "cell_type": "code",
   "execution_count": null,
   "metadata": {
    "collapsed": false,
    "slideshow": {
     "slide_type": "-"
    }
   },
   "outputs": [],
   "source": [
    "canvases = renderToCanvases(\"RechitOccupancyGlyVsGlxCanvas\", \"Rechit occupancy, Y vs X\", 900, 450,\n",
    "    mainDir.GetTitle() + \"/\" + \"rechitOccupancyGlyVsGlxPlots\",\n",
    "    [\"rechitOccupancyGlyVsGlxPlots_Disk1_Hits\",\n",
    "    \"rechitOccupancyGlyVsGlxPlots_Disk4_Hits\",\n",
    "    \"rechitOccupancyGlyVsGlxPlots_Disk2_Hits\",\n",
    "    \"rechitOccupancyGlyVsGlxPlots_Disk5_Hits\",\n",
    "    \"rechitOccupancyGlyVsGlxPlots_Disk3_Hits\",\n",
    "    \"rechitOccupancyGlyVsGlxPlots_Disk6_Hits\"])"
   ]
  },
  {
   "cell_type": "markdown",
   "metadata": {
    "slideshow": {
     "slide_type": "-"
    }
   },
   "source": [
    "<center><strong>[Use the up and down arrows to navigate between plots.]</strong></center>"
   ]
  },
  {
   "cell_type": "code",
   "execution_count": null,
   "metadata": {
    "collapsed": false,
    "slideshow": {
     "slide_type": "subslide"
    }
   },
   "outputs": [],
   "source": [
    "canvases[0].Draw()"
   ]
  },
  {
   "cell_type": "code",
   "execution_count": null,
   "metadata": {
    "collapsed": false,
    "slideshow": {
     "slide_type": "subslide"
    }
   },
   "outputs": [],
   "source": [
    "canvases[1].Draw()"
   ]
  },
  {
   "cell_type": "code",
   "execution_count": null,
   "metadata": {
    "collapsed": false,
    "slideshow": {
     "slide_type": "subslide"
    }
   },
   "outputs": [],
   "source": [
    "canvases[2].Draw()"
   ]
  },
  {
   "cell_type": "markdown",
   "metadata": {
    "slideshow": {
     "slide_type": "slide"
    }
   },
   "source": [
    "## Efficiency filter cut thresholds - n - 1 plots"
   ]
  },
  {
   "cell_type": "markdown",
   "metadata": {
    "slideshow": {
     "slide_type": "slide"
    }
   },
   "source": [
    "The list of the cuts and their functions are listed here:\n",
    "\n",
    "<table style=\"\n",
    "    font-family: arial, sans-serif;\n",
    "    border-collapse: collapse;\n",
    "    width: 100%;\">\n",
    "  <tr>\n",
    "    <th>#</th>\n",
    "    <th>Cut name</th>\n",
    "    <th>Function</th>\n",
    "  </tr>\n",
    "   <tr>\n",
    "   \t<td>1</td>\n",
    "    <td>nvtxCut</td>\n",
    "    <td>Discards tracks that come from a vertex with low number of tracks.</td>\n",
    "  </tr>\n",
    "   <tr>\n",
    "   \t<td>2</td>\n",
    "    <td>zerobiasCut</td>\n",
    "    <td>Discards trajectory measurements that come from non MinBias trigger selection (for data).</td>\n",
    "  </tr>\n",
    "   <tr>\n",
    "   \t<td>3</td>\n",
    "    <td>federrCut</td>\n",
    "    <td>Discards data when FED errors were present.</td>\n",
    "  </tr>\n",
    "   <tr>\n",
    "   \t<td>4</td>\n",
    "    <td>hpCut</td>\n",
    "    <td>Allows high-purity tracks only.</td>\n",
    "  </tr>\n",
    "   <tr>\n",
    "   \t<td>5</td>\n",
    "    <td>ptCut</td>\n",
    "    <td>Minimum track transverse momenta.</td>\n",
    "  </tr>\n",
    "   <tr>\n",
    "   \t<td>6</td>\n",
    "    <td>nstripCut</td>\n",
    "    <td>Number of strip hits required to validate the track presence.</td>\n",
    "  </tr>\n",
    "   <tr>\n",
    "   \t<td>7</td>\n",
    "    <td>d0Cut</td>\n",
    "    <td>Maximum track-vertex XY distance.</td>\n",
    "  </tr>\n",
    "   <tr>\n",
    "   \t<td>8</td>\n",
    "    <td>dzCut</td>\n",
    "    <td>Maximum track-vertex Z distance.</td>\n",
    "  </tr>\n",
    "   <tr>\n",
    "   \t<td>9</td>\n",
    "    <td>pixhitCut</td>\n",
    "    <td>Discards measurements with positions that have been propagated without a validhit in the adjacent detector layers/disks.</td>\n",
    "  </tr>\n",
    "   <tr>\n",
    "   \t<td>10</td>\n",
    "    <td>lxFidCut</td>\n",
    "    <td>Discards hits on the edges of the modules. For the forward section this is combined with the lyFidCut.</td>\n",
    "  </tr>\n",
    "   <tr>\n",
    "   \t<td>11</td>\n",
    "    <td>lyFidCut</td>\n",
    "    <td>Discards hits on the edges of the modules. For the forward section this is combined with the lxFidCut.</td>\n",
    "  </tr>\n",
    "   <tr>\n",
    "   \t<td>12</td>\n",
    "    <td>valmisCut</td>\n",
    "    <td>Discarding hits with invalid states.</td>\n",
    "  </tr>\n",
    "   <tr>\n",
    "   \t<td>13</td>\n",
    "    <td>hitsepCut</td>\n",
    "    <td>Discarding hits that have ambiguous track assignments (= there are more than one track traversing the detector near the hit).</td>\n",
    "  </tr>\n",
    "   <tr>\n",
    "   \t<td>14</td>\n",
    "    <td>badROCCut</td>\n",
    "    <td>Excluding non functioning modules and ROCs.</td>\n",
    "  </tr>\n",
    "</table>\n"
   ]
  },
  {
   "cell_type": "markdown",
   "metadata": {
    "slideshow": {
     "slide_type": "slide"
    }
   },
   "source": [
    "Many of these cuts have different boundaries than the ones used in the Phase-0 scenario. \n",
    "\n",
    "The fine-tuning of the cut values was an iterative process. In order to fine tune a single threshold, the other cuts should be present. The plots with all except one cut values pre-set are referred to as n - 1 plots. I used the Phase-0 cut values as the starting points of the iterations, where it was reasonable to do so."
   ]
  },
  {
   "cell_type": "markdown",
   "metadata": {
    "slideshow": {
     "slide_type": "slide"
    }
   },
   "source": [
    "### Fidicual cuts"
   ]
  },
  {
   "cell_type": "markdown",
   "metadata": {
    "slideshow": {
     "slide_type": "-"
    }
   },
   "source": [
    "#### The Pixel Barrel layers\n",
    "Since the geometry of the detector is completely different, it is reasonable to start the fine tuning on the most geometry dependent cuts: the fidicual cuts. The scenario of the barrel modules is relatively straightforward:"
   ]
  },
  {
   "cell_type": "code",
   "execution_count": null,
   "metadata": {
    "collapsed": false,
    "slideshow": {
     "slide_type": "-"
    }
   },
   "outputs": [],
   "source": [
    "canvases = renderToCanvases(\"lyVsLxEfficiencyOnTheBarrelCanvas\", \"Ly vs lx efficiency on the barrel layers\", 900, 400,\n",
    "    mainDir.GetTitle() + \"/\" + \"lyVsLxEfficiencyWithCutsPlots\",\n",
    "    [\"lyVsLxEfficiencyWithCutsPlots_Layer1_Eff.\",\n",
    "    \"lyVsLxEfficiencyWithCutsPlots_Layer2_Eff.\",\n",
    "    \"lyVsLxEfficiencyWithCutsPlots_Layer3_Eff.\",\n",
    "    \"lyVsLxEfficiencyWithCutsPlots_Layer4_Eff.\"])"
   ]
  },
  {
   "cell_type": "markdown",
   "metadata": {
    "slideshow": {
     "slide_type": "-"
    }
   },
   "source": [
    "<center><strong>[Use the up and down arrows to navigate between plots.]</strong></center>"
   ]
  },
  {
   "cell_type": "code",
   "execution_count": null,
   "metadata": {
    "collapsed": false,
    "slideshow": {
     "slide_type": "subslide"
    }
   },
   "outputs": [],
   "source": [
    "canvases[0].Draw()"
   ]
  },
  {
   "cell_type": "code",
   "execution_count": null,
   "metadata": {
    "collapsed": false,
    "slideshow": {
     "slide_type": "subslide"
    }
   },
   "outputs": [],
   "source": [
    "canvases[1].Draw()"
   ]
  },
  {
   "cell_type": "markdown",
   "metadata": {
    "slideshow": {
     "slide_type": "slide"
    }
   },
   "source": [
    "#### The Pixel Endcap modules\n",
    "As for the modules on the Pixel Endcaps, it is a completely different matter. Unfortunately, there are lots of different configurations for these modules for which the overlapping areas are completely different. As of the current state of the efficiency measurements, only the center of the forward modules were used, since this is the only place, where there are no overlaps between the adjacent modules. Unfortunately, this is a quite small proportion of the modules, so these cuts throw away most of the endcap trajectory measurements.\n",
    "\n",
    "If you have any ideas how this approach can be upgraded/replaced, please make sure to comment on the matter! :)\n",
    "\n",
    "For the orientation of the forward modules, 24 differerent scenarios were separated, and an area with correct efficiency measurement values were selected for each of them. Here I present only some of these cuts. The plots on the left side show the total n - 1 efficiencies. The plots on the right side present the efficiency values on the selected area only."
   ]
  },
  {
   "cell_type": "code",
   "execution_count": null,
   "metadata": {
    "collapsed": false,
    "slideshow": {
     "slide_type": "-"
    }
   },
   "outputs": [],
   "source": [
    "preCutsNamePrefix  = \"forwardLocalPositionsByOrientationEfficiencyPlots\"\n",
    "postCutsNamePrefix = \"forwardLocalPositionsByOrientationWithFidicualCutsEfficiencyPlots\"\n",
    "canvases = renderToCanvases(\"lyVsLxEfficiencyOnTheEndcapCanvas\", \"Ly vs lx efficiency on the endcap disks\", 900, 400,\n",
    "    mainDir.GetTitle(),\n",
    "    [\"forwardLocalPositionsByOrientationEfficiencyPlots/\"    + preCutsNamePrefix  + \"_Disk1Efficiency_2\",\n",
    "    \"forwardLocalPositionsWithFidicualCutsEfficiencyPlots/\" + postCutsNamePrefix + \"_Disk1Efficiency_2\",\n",
    "    \"forwardLocalPositionsByOrientationEfficiencyPlots/\"    + preCutsNamePrefix  + \"_Disk1Efficiency_3\",\n",
    "    \"forwardLocalPositionsWithFidicualCutsEfficiencyPlots/\" + postCutsNamePrefix + \"_Disk1Efficiency_3\",\n",
    "    \"forwardLocalPositionsByOrientationEfficiencyPlots/\"    + preCutsNamePrefix  + \"_Disk2Efficiency_4\",\n",
    "    \"forwardLocalPositionsWithFidicualCutsEfficiencyPlots/\" + postCutsNamePrefix + \"_Disk2Efficiency_4\"])"
   ]
  },
  {
   "cell_type": "markdown",
   "metadata": {
    "slideshow": {
     "slide_type": "-"
    }
   },
   "source": [
    "<center><strong>[Use the up and down arrows to navigate between plots.]</strong></center>"
   ]
  },
  {
   "cell_type": "code",
   "execution_count": null,
   "metadata": {
    "collapsed": false,
    "slideshow": {
     "slide_type": "subslide"
    }
   },
   "outputs": [],
   "source": [
    "canvases[0].Draw()"
   ]
  },
  {
   "cell_type": "code",
   "execution_count": null,
   "metadata": {
    "collapsed": false,
    "slideshow": {
     "slide_type": "subslide"
    }
   },
   "outputs": [],
   "source": [
    "canvases[1].Draw()"
   ]
  },
  {
   "cell_type": "code",
   "execution_count": null,
   "metadata": {
    "collapsed": false,
    "slideshow": {
     "slide_type": "subslide"
    }
   },
   "outputs": [],
   "source": [
    "canvases[2].Draw()"
   ]
  },
  {
   "cell_type": "markdown",
   "metadata": {
    "slideshow": {
     "slide_type": "slide"
    }
   },
   "source": [
    "### Cut for number of tracks in the vertices"
   ]
  },
  {
   "cell_type": "markdown",
   "metadata": {
    "slideshow": {
     "slide_type": "-"
    }
   },
   "source": [
    "As for this cut, it was already introduced in the implementation of the PhaseIPixelNtuplizer. The cut value of 10 tracks seems to be perfectly reasonable."
   ]
  },
  {
   "cell_type": "code",
   "execution_count": null,
   "metadata": {
    "collapsed": false,
    "slideshow": {
     "slide_type": "-"
    }
   },
   "outputs": [],
   "source": [
    "canvases = renderToCanvases(\"vtxNtrkEfficiencyWithCutsPlotsCanvas\", \"Number of tracks in the vertices\", 900, 400,\n",
    "    mainDir.GetTitle() + \"/\" + \"vtxNtrkEfficiencyWithCutsPlots\",\n",
    "    [\"vtxNtrkEfficiencyWithCutsPlots_Hits\",\n",
    "    \"vtxNtrkEfficiencyWithCutsPlots_Eff.\"])"
   ]
  },
  {
   "cell_type": "markdown",
   "metadata": {
    "slideshow": {
     "slide_type": "slide"
    }
   },
   "source": [
    "### Transverse momentum cut"
   ]
  },
  {
   "cell_type": "markdown",
   "metadata": {
    "slideshow": {
     "slide_type": "-"
    }
   },
   "source": [
    "The Phase-0 value for this cut was set to 1.0. This value seems to be alll right and was kept."
   ]
  },
  {
   "cell_type": "code",
   "execution_count": null,
   "metadata": {
    "collapsed": false,
    "slideshow": {
     "slide_type": "-"
    }
   },
   "outputs": [],
   "source": [
    "canvases = renderToCanvases(\"ptEfficiencyWithCutsPlotsCanvas\", \"Pt. of the traj. meas. tracks\", 900, 400,\n",
    "    mainDir.GetTitle() + \"/\" + \"ptEfficiencyWithCutsPlots\",\n",
    "    [\"ptEfficiencyWithCutsPlots_Hits\",\n",
    "    \"ptEfficiencyWithCutsPlots_Eff.\"])\n",
    "canvases[0].Draw()"
   ]
  },
  {
   "cell_type": "markdown",
   "metadata": {
    "slideshow": {
     "slide_type": "slide"
    }
   },
   "source": [
    "### Number of strip hits assertion"
   ]
  },
  {
   "cell_type": "markdown",
   "metadata": {
    "slideshow": {
     "slide_type": "skip"
    }
   },
   "source": [
    "The code used to plot the number of strip hits: "
   ]
  },
  {
   "cell_type": "code",
   "execution_count": null,
   "metadata": {
    "collapsed": false,
    "slideshow": {
     "slide_type": "-"
    }
   },
   "outputs": [],
   "source": [
    "canvases = renderToCanvases(\"striphitsEfficiencyWithCutsPlotsCanvas\", \"Strip hits for the traj. meas. tracks\", 900, 400,\n",
    "    mainDir.GetTitle() + \"/\" + \"striphitsEfficiencyWithCutsPlots\",\n",
    "    [\"striphitsEfficiencyWithCutsPlots_Hits\",\n",
    "    \"striphitsEfficiencyWithCutsPlots_Eff.\",])"
   ]
  },
  {
   "cell_type": "code",
   "execution_count": null,
   "metadata": {
    "collapsed": false,
    "slideshow": {
     "slide_type": "slide"
    }
   },
   "outputs": [],
   "source": [
    "canvases[0].Draw()"
   ]
  },
  {
   "cell_type": "markdown",
   "metadata": {
    "slideshow": {
     "slide_type": "-"
    }
   },
   "source": [
    "The distribution of the number of strip hits is quite interesting. Most of the tracks with non-zero strip hits are located in a gaussian with a mean of ~14. Currently the cut value for the minimum number of strip hits is currently set to 10, this means, that most of the tracks in this region are kept."
   ]
  },
  {
   "cell_type": "markdown",
   "metadata": {
    "slideshow": {
     "slide_type": "slide"
    }
   },
   "source": [
    "### D0 and dz cuts"
   ]
  },
  {
   "cell_type": "markdown",
   "metadata": {
    "slideshow": {
     "slide_type": "-"
    }
   },
   "source": [
    "#### The Pixel Barrel layers\n",
    "The threshold used for the barrel modules and the forward modules were selected separately, since the error of the trajectory measurements on the layer is more dependent on the Z track-vertex distance, and as for the traj. measurements on the disks the precision is more dependent on the XY distance.\n",
    "\n",
    "The current cut values for d0 of the layers are set to 0.01 on the first layer, and 0.02 on the other layers. There is also a cut value for dz, set to 0.1 just to throw away all the tracks with very bad vertex association."
   ]
  },
  {
   "cell_type": "code",
   "execution_count": null,
   "metadata": {
    "collapsed": false,
    "slideshow": {
     "slide_type": "-"
    }
   },
   "outputs": [],
   "source": [
    "canvases = renderToCanvases(\"d0WithCutsPlotsAllLayersCanvas\", \"D0 of the traj. meas. tracks on the layers\", 900, 400,\n",
    "    mainDir.GetTitle(),\n",
    "    [\"d0WithCutsPlots/d0WithCutsPlots_AllLayers_Hits\",\n",
    "    \"d0WithCutsPlots/d0WithCutsPlots_AllLayers_Eff.\",\n",
    "    \"dzWithCutsPlots/dzWithCutsPlots_AllLayers_Hits\",\n",
    "    \"dzWithCutsPlots/dzWithCutsPlots_AllLayers_Eff.\"])"
   ]
  },
  {
   "cell_type": "markdown",
   "metadata": {
    "slideshow": {
     "slide_type": "-"
    }
   },
   "source": [
    "<center><strong>[Use the up and down arrows to navigate between plots.]</strong></center>"
   ]
  },
  {
   "cell_type": "code",
   "execution_count": null,
   "metadata": {
    "collapsed": false,
    "slideshow": {
     "slide_type": "subslide"
    }
   },
   "outputs": [],
   "source": [
    "canvases[0].Draw()"
   ]
  },
  {
   "cell_type": "code",
   "execution_count": null,
   "metadata": {
    "collapsed": false,
    "slideshow": {
     "slide_type": "subslide"
    }
   },
   "outputs": [],
   "source": [
    "canvases[1].Draw()"
   ]
  },
  {
   "cell_type": "markdown",
   "metadata": {
    "slideshow": {
     "slide_type": "slide"
    }
   },
   "source": [
    "#### The Pixel Endcap modules\n",
    "\n",
    "The tracking accuracy of the forward region should be more dependent on d0 than on dz, still neither of these correlations seem to be too strong. The current d0 cut value is set to 0.05 and the dz is 0.5, but it is entirely possible that the dz cut is entirely unnecessary."
   ]
  },
  {
   "cell_type": "code",
   "execution_count": null,
   "metadata": {
    "collapsed": false,
    "slideshow": {
     "slide_type": "-"
    }
   },
   "outputs": [],
   "source": [
    "canvases = renderToCanvases(\"d0WithCutsPlotsAllDisksCanvas\", \"D0 of the traj. meas. tracks on the disks\", 900, 400,\n",
    "    mainDir.GetTitle(),\n",
    "    [\"d0WithCutsPlots/d0WithCutsPlots_AllDisks_Hits\",\n",
    "    \"d0WithCutsPlots/d0WithCutsPlots_AllDisks_Eff.\",\n",
    "    \"dzWithCutsPlots/dzWithCutsPlots_AllDisks_Hits\",\n",
    "    \"dzWithCutsPlots/dzWithCutsPlots_AllDisks_Eff.\"])"
   ]
  },
  {
   "cell_type": "markdown",
   "metadata": {
    "slideshow": {
     "slide_type": "-"
    }
   },
   "source": [
    "<center><strong>[Use the up and down arrows to navigate between plots.]</strong></center>"
   ]
  },
  {
   "cell_type": "code",
   "execution_count": null,
   "metadata": {
    "collapsed": false,
    "slideshow": {
     "slide_type": "subslide"
    }
   },
   "outputs": [],
   "source": [
    "canvases[0].Draw()"
   ]
  },
  {
   "cell_type": "code",
   "execution_count": null,
   "metadata": {
    "collapsed": false,
    "slideshow": {
     "slide_type": "subslide"
    }
   },
   "outputs": [],
   "source": [
    "canvases[1].Draw()"
   ]
  },
  {
   "cell_type": "markdown",
   "metadata": {
    "slideshow": {
     "slide_type": "slide"
    }
   },
   "source": [
    "### Hit separation cuts\n",
    "\n",
    "The distance of the hits is also an important factor in accuracy of the track association. The best trajectory measurements for efficiency measurements are the ones that are far from the trajectory of every other track. The hit separation cut value is currently set to 0.1."
   ]
  },
  {
   "cell_type": "code",
   "execution_count": null,
   "metadata": {
    "collapsed": false,
    "slideshow": {
     "slide_type": "-"
    }
   },
   "outputs": [],
   "source": [
    "canvases = renderToCanvases(\"hitDistWithCutsPlotsCanvas\", \"Distance of closest non-parent track\", 900, 400,\n",
    "    mainDir.GetTitle() + \"/\" + \"hitDistWithCutsPlots\",\n",
    "    [\"hitDistWithCutsPlots_Hits\",\n",
    "    \"hitDistWithCutsPlots_Eff.\",])\n",
    "canvases[0].Draw()"
   ]
  },
  {
   "cell_type": "markdown",
   "metadata": {
    "slideshow": {
     "slide_type": "slide"
    }
   },
   "source": [
    "### Trajectory measurement cluster assignment distance\n",
    "\n",
    "The ratio of clusters falsely assigned to a track is highly dependent on the pileup. The association threshold is 0.1 which should keep the false-association minimal. "
   ]
  },
  {
   "cell_type": "code",
   "execution_count": null,
   "metadata": {
    "collapsed": false,
    "slideshow": {
     "slide_type": "-"
    }
   },
   "outputs": [],
   "source": [
    "canvases = renderToCanvases(\"clustDistWithCutsPlotsCanvas\", \"Traj. meas distance to the closest cluster\", 900, 400,\n",
    "    mainDir.GetTitle() + \"/\" + \"clustDistWithCutsPlots\",\n",
    "    [\"clustDistWithCutsPlots_Hits\",\n",
    "    \"clustDistWithCutsPlots_Eff.\",])\n",
    "canvases[0].Draw()"
   ]
  },
  {
   "cell_type": "markdown",
   "metadata": {
    "slideshow": {
     "slide_type": "slide"
    }
   },
   "source": [
    "## Results of the efficiency measurements"
   ]
  },
  {
   "cell_type": "code",
   "execution_count": null,
   "metadata": {
    "collapsed": false
   },
   "outputs": [],
   "source": [
    "canvases = renderToCanvases(\"efficiencyMeasurementsCanvas\", \"Efficiency measurements\", 900, 400,\n",
    "    mainDir.GetTitle() + \"/\" + \"layersDisksEfficiencyPlots\",\n",
    "    [\"layersDisksEfficiencyPlots_Hits\",\n",
    "    \"layersDisksEfficiencyPlots_Eff.\",])\n",
    "canvases[0].Draw()"
   ]
  },
  {
   "cell_type": "markdown",
   "metadata": {
    "slideshow": {
     "slide_type": "slide"
    }
   },
   "source": [
    "<center><h1> Thank you for your attention </h1></center>"
   ]
  }
 ],
 "metadata": {
  "celltoolbar": "Slideshow",
  "kernelspec": {
   "display_name": "ROOT Prompt",
   "language": "c++",
   "name": "root"
  },
  "language_info": {
   "codemirror_mode": {
    "name": "ipython",
    "version": 2
   },
   "file_extension": ".py",
   "mimetype": "text/x-python",
   "name": "python",
   "nbconvert_exporter": "python",
   "pygments_lexer": "ipython2",
   "version": "2.7.11"
  }
 },
 "nbformat": 4,
 "nbformat_minor": 2
}
