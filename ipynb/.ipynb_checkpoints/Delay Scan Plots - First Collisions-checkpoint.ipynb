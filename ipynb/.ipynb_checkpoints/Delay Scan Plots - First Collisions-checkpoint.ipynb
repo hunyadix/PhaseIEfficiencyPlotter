{
 "cells": [
  {
   "cell_type": "markdown",
   "metadata": {},
   "source": [
    "# Phase-I Pixel detector: Efficiency measurements using the first collisions\n",
    "\n",
    "The purpose of this notebook and presentation is to provide documentation and validation of the efficiency measurements.\n",
    "\n",
    "<div style=\"margin-top: 20px; display: inline-block;\"><a href=\"mailto:adam.hunyadi@cern.ch?Subject=Phase-I%20Pixel detector:%20Efficiency%20Measurements\" target=\"_top\">adam.hunyadi@cern.ch</div>\n",
    "<div style=\"margin-left: 30px; margin-right: 30px; display: inline;\">- - -</div>\n",
    "<div style=\"display: inline;\">2017. 05. 17.</div>"
   ]
  },
  {
   "cell_type": "markdown",
   "metadata": {},
   "source": [
    "## Tools used\n",
    "The PhaseIPixelNtuplizer package (used to process the CMSSW output) is available at:\n",
    "\n",
    "https://github.com/jkarancs/PhaseIPixelNtuplizer\n",
    "\n",
    "The PhaseIEfficiencyPlotter package (used to create plots) is available at:\n",
    "\n",
    "https://github.com/hunyadix/PhaseIEfficiencyPlotter"
   ]
  },
  {
   "cell_type": "code",
   "execution_count": null,
   "metadata": {
    "collapsed": true
   },
   "outputs": [],
   "source": [
    "import ROOT, sys\n",
    "ROOT.gStyle.SetPalette(1)\n",
    "sys.path.append('../python/')\n",
    "inputFile = ROOT.TFile.Open(\"/data_ssd_120gb/hunyadi/CMSSW/PhaseIEfficiencyPlotter_2017_04_02/CMSSW_9_1_0_pre3/src/DPGAnalysis/PhaseIEfficiencyPlotter/histograms_for_presentation.root\", \"READ\")"
   ]
  },
  {
   "cell_type": "markdown",
   "metadata": {},
   "source": [
    "## Validation - List of delay scenarios\n",
    "The Ntuple should contain plots listed in different directories. Each of these directories should correspont to a delay scenario. This code prints out the delay scenarios:\n"
   ]
  },
  {
   "cell_type": "code",
   "execution_count": null,
   "metadata": {
    "collapsed": true
   },
   "outputs": [],
   "source": [
    "for key in ROOT.gDirectory.GetListOfKeys():\n",
    "    print key.GetTitle()"
   ]
  },
  {
   "cell_type": "markdown",
   "metadata": {},
   "source": [
    "The delay scenarios should have been printed out (\"Delay -9999.00\" is saved for unknown delay scenarios or simulations). "
   ]
  },
  {
   "cell_type": "markdown",
   "metadata": {},
   "source": [
    "First, we define a helper function to make it easy to create the required canvases:"
   ]
  },
  {
   "cell_type": "code",
   "execution_count": null,
   "metadata": {
    "collapsed": true
   },
   "outputs": [],
   "source": [
    "directoryTitleList = []\n",
    "for directory in mainDir.GetListOfKeys(): \n",
    "    directoryTitleList += [directory.GetTitle()]\n",
    "for index, directoryTitle in enumerate(directoryTitleList):\n",
    "    sys.stdout.write(\"%-35s \" % directoryTitle)\n",
    "    if index % 3 == 2: print \"\""
   ]
  },
  {
   "cell_type": "markdown",
   "metadata": {},
   "source": [
    "## Validation - Plots"
   ]
  },
  {
   "cell_type": "code",
   "execution_count": null,
   "metadata": {
    "collapsed": true
   },
   "outputs": [],
   "source": [
    "canvases = renderToCanvases(\"ClusterOccupancyCanvas\", \"Cluster Occupancy on the ROCs\", 900, 400,\n",
    "                   mainDir.GetTitle() + \"/\" + \"clusterOccupancyROCPlots\",\n",
    "                   [\"clusterOccupancyROCPlots_Layer1\",\n",
    "                    \"clusterOccupancyROCPlots_Layer2\",\n",
    "                    \"clusterOccupancyROCPlots_Layer3\",\n",
    "                    \"clusterOccupancyROCPlots_Layer4\",\n",
    "                    \"clusterOccupancyROCPlots_AllDisks\"])"
   ]
  },
  {
   "cell_type": "markdown",
   "metadata": {},
   "source": [
    "<center><strong>[Use the up and down keys to navigate between plots.]</strong></center>"
   ]
  }
 ],
 "metadata": {
  "kernelspec": {
   "display_name": "ROOT Prompt",
   "language": "c++",
   "name": "root"
  },
  "language_info": {
   "codemirror_mode": {
    "name": "ipython",
    "version": 2
   },
   "file_extension": ".py",
   "mimetype": "text/x-python",
   "name": "python",
   "nbconvert_exporter": "python",
   "pygments_lexer": "ipython2",
   "version": "2.7.11"
  }
 },
 "nbformat": 4,
 "nbformat_minor": 2
}
